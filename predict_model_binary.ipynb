{
 "cells": [
  {
   "cell_type": "code",
   "execution_count": 1,
   "metadata": {},
   "outputs": [
    {
     "name": "stderr",
     "output_type": "stream",
     "text": [
      "2022-07-18 12:18:05.183530: I tensorflow/stream_executor/platform/default/dso_loader.cc:49] Successfully opened dynamic library libcudart.so.10.1\n"
     ]
    },
    {
     "name": "stdout",
     "output_type": "stream",
     "text": [
      "2.4.1\n"
     ]
    }
   ],
   "source": [
    "import matplotlib.pyplot as plt\n",
    "import numpy as np\n",
    "import os\n",
    "import PIL\n",
    "import pathlib\n",
    "import glob\n",
    "\n",
    "import tensorflow as tf\n",
    "from tensorflow import keras\n",
    "print(tf.__version__)"
   ]
  },
  {
   "cell_type": "code",
   "execution_count": 2,
   "metadata": {},
   "outputs": [
    {
     "name": "stderr",
     "output_type": "stream",
     "text": [
      "2022-07-18 12:18:08.385343: I tensorflow/compiler/jit/xla_cpu_device.cc:41] Not creating XLA devices, tf_xla_enable_xla_devices not set\n",
      "2022-07-18 12:18:08.385651: W tensorflow/stream_executor/platform/default/dso_loader.cc:60] Could not load dynamic library 'libcuda.so.1'; dlerror: libcuda.so.1: cannot open shared object file: No such file or directory\n",
      "2022-07-18 12:18:08.385670: W tensorflow/stream_executor/cuda/cuda_driver.cc:326] failed call to cuInit: UNKNOWN ERROR (303)\n",
      "2022-07-18 12:18:08.385699: I tensorflow/stream_executor/cuda/cuda_diagnostics.cc:156] kernel driver does not appear to be running on this host (polui01.in2p3.fr): /proc/driver/nvidia/version does not exist\n",
      "2022-07-18 12:18:08.386031: I tensorflow/core/platform/cpu_feature_guard.cc:142] This TensorFlow binary is optimized with oneAPI Deep Neural Network Library (oneDNN) to use the following CPU instructions in performance-critical operations:  SSE4.1 SSE4.2 AVX\n",
      "To enable them in other operations, rebuild TensorFlow with the appropriate compiler flags.\n",
      "2022-07-18 12:18:08.391568: I tensorflow/compiler/jit/xla_gpu_device.cc:99] Not creating XLA devices, tf_xla_enable_xla_devices not set\n"
     ]
    },
    {
     "name": "stdout",
     "output_type": "stream",
     "text": [
      "Model: \"sequential_3\"\n",
      "_________________________________________________________________\n",
      "Layer (type)                 Output Shape              Param #   \n",
      "=================================================================\n",
      "rescaling_3 (Rescaling)      (None, 100, 180, 1)       0         \n",
      "_________________________________________________________________\n",
      "conv2d_9 (Conv2D)            (None, 100, 180, 16)      160       \n",
      "_________________________________________________________________\n",
      "max_pooling2d_9 (MaxPooling2 (None, 50, 90, 16)        0         \n",
      "_________________________________________________________________\n",
      "conv2d_10 (Conv2D)           (None, 50, 90, 32)        4640      \n",
      "_________________________________________________________________\n",
      "max_pooling2d_10 (MaxPooling (None, 25, 45, 32)        0         \n",
      "_________________________________________________________________\n",
      "conv2d_11 (Conv2D)           (None, 25, 45, 64)        18496     \n",
      "_________________________________________________________________\n",
      "max_pooling2d_11 (MaxPooling (None, 12, 22, 64)        0         \n",
      "_________________________________________________________________\n",
      "flatten_3 (Flatten)          (None, 16896)             0         \n",
      "_________________________________________________________________\n",
      "dense_12 (Dense)             (None, 256)               4325632   \n",
      "_________________________________________________________________\n",
      "dense_13 (Dense)             (None, 128)               32896     \n",
      "_________________________________________________________________\n",
      "dense_14 (Dense)             (None, 32)                4128      \n",
      "_________________________________________________________________\n",
      "dense_15 (Dense)             (None, 2)                 66        \n",
      "=================================================================\n",
      "Total params: 4,386,018\n",
      "Trainable params: 4,386,018\n",
      "Non-trainable params: 0\n",
      "_________________________________________________________________\n"
     ]
    }
   ],
   "source": [
    "### load model and print summary\n",
    "lmodel = tf.keras.models.load_model(\"CNN_deeper_bin.h5\") \n",
    "lmodel.summary()"
   ]
  },
  {
   "cell_type": "code",
   "execution_count": null,
   "metadata": {
    "scrolled": false
   },
   "outputs": [],
   "source": [
    "### loop over validation images for inference\n",
    "from PIL import Image\n",
    "\n",
    "Validation_path = '/grid_mnt/data__data.polcms/cms/sghosh/camdata/Validation_Pictures/'\n",
    "\n",
    "plt.figure(figsize = (10,10))\n",
    "\n",
    "class_names = ['Acceptable', 'Nonacceptable']\n",
    "for image in os.listdir(Validation_path):\n",
    "\n",
    "\n",
    "    print(\"\\n\\n\\n=>Image initial name : \",image)\n",
    "    \n",
    "\n",
    "\n",
    "    #-----------------------------------------\n",
    "    img = tf.keras.preprocessing.image.load_img(Validation_path+\"/\" + image ,grayscale=True)\n",
    "    #tf.keras.preprocessing.\n",
    "    #print(img.size)\n",
    "    \n",
    "    \n",
    "    #Image cropped\n",
    "    left=280\n",
    "    right=750\n",
    "    top=350\n",
    "    bottom=590\n",
    "    img=img.crop((left, top, right, bottom)) \n",
    "    \n",
    "    size = 180, 100\n",
    "\n",
    "    img=img.resize(size)\n",
    "    #print(img.size)\n",
    "    \n",
    "    # Display cropped image\n",
    "    plt.imshow(img)\n",
    "    plt.axis('off')\n",
    "    plt.show() \n",
    "    \n",
    "    #img_array = tf.keras.utils.generic_utils.img_to_array(img)\n",
    "    img_array = tf.keras.preprocessing.image.img_to_array(img)\n",
    "    img_array = tf.expand_dims(img_array, 0) # Create a batch\n",
    "\n",
    "    predictions = lmodel.predict(img_array)\n",
    "    score = predictions#tf.nn.softmax(predictions[0])\n",
    "    \n",
    "    print(\"SCORE : \\n\",score)\n",
    "    print(\"\\nPredicitons :\\n\",predictions)\n",
    "    \n",
    "    \n",
    "    print(\n",
    "        \"This image most likely belongs to {} with a {:.2f} percent confidence. \"\n",
    "        .format(class_names[np.argmax(score)], 100 * np.max(score))\n",
    "    )\n",
    "    \n",
    "\n",
    "    "
   ]
  },
  {
   "cell_type": "code",
   "execution_count": null,
   "metadata": {},
   "outputs": [],
   "source": []
  }
 ],
 "metadata": {
  "kernelspec": {
   "display_name": "tfgnn",
   "language": "python",
   "name": "tfgnn"
  },
  "language_info": {
   "codemirror_mode": {
    "name": "ipython",
    "version": 3
   },
   "file_extension": ".py",
   "mimetype": "text/x-python",
   "name": "python",
   "nbconvert_exporter": "python",
   "pygments_lexer": "ipython3",
   "version": "3.8.13"
  }
 },
 "nbformat": 4,
 "nbformat_minor": 4
}
