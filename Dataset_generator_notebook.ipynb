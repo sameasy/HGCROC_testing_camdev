{
 "cells": [
  {
   "cell_type": "code",
   "execution_count": 1,
   "metadata": {},
   "outputs": [
    {
     "name": "stderr",
     "output_type": "stream",
     "text": [
      "2022-07-10 13:05:06.042915: W tensorflow/stream_executor/platform/default/dso_loader.cc:64] Could not load dynamic library 'libcudart.so.11.0'; dlerror: libcudart.so.11.0: cannot open shared object file: No such file or directory; LD_LIBRARY_PATH: /grid_mnt/vol_home/llr/cms/sghosh/software/miniconda3/envs/tfgpu/lib/python3.8/site-packages/cv2/../../../../lib:\n",
      "2022-07-10 13:05:06.042982: I tensorflow/stream_executor/cuda/cudart_stub.cc:29] Ignore above cudart dlerror if you do not have a GPU set up on your machine.\n"
     ]
    }
   ],
   "source": [
    "import cv2\n",
    "import os\n",
    "import matplotlib.pyplot as plt\n",
    "from matplotlib.pyplot import imshow\n",
    "import numpy as np\n",
    "from PIL import Image\n",
    "\n",
    "import tensorflow as tf\n",
    "import tensorflow_datasets as tfds\n",
    "from tensorflow.keras import layers\n",
    "tf.__version__\n",
    "\n",
    "plt.rcParams['figure.figsize'] = [10, 10]\n",
    "plt.rcParams['figure.dpi'] = 80"
   ]
  },
  {
   "cell_type": "code",
   "execution_count": 2,
   "metadata": {},
   "outputs": [],
   "source": [
    "def visualize(original, augmented):\n",
    "    fig = plt.figure()\n",
    "    plt.subplot(1,2,1)\n",
    "    plt.title('Original image')\n",
    "    plt.imshow(original)\n",
    "\n",
    "    plt.subplot(1,2,2)\n",
    "    plt.title('Augmented image')\n",
    "    plt.imshow(augmented)\n",
    "\n",
    "    \n",
    "    #----------------------Cropped image------------------------------img_crop--------------------#\n",
    "def cropped_image(image):\n",
    "    #print(\"-> Cropped gray image\")\n",
    "    img_gray = cv2.cvtColor(image, cv2.COLOR_BGR2GRAY)\n",
    "    img_crop = img_gray[350:590,260:730]\n",
    "    return img_crop\n",
    "\n",
    "\n",
    "\n",
    "def augmentor(name,image, idx, num_image, maxdelta, out_path):\n",
    "\n",
    "    img = cv2.imread(image, cv2.IMREAD_UNCHANGED) \n",
    "    image=cropped_image(img)\n",
    "    for i in range(num_image):\n",
    "        \n",
    "        seed = (i, 0)  # tuple of size (2,)\n",
    "        \n",
    "        \n",
    "        #-----------------Contrast------------------------------------------------------#\n",
    "        '''\n",
    "        stateless_random_contrast = tf.image.stateless_random_contrast(image, lower=0.1, upper=0.9, seed=seed)\n",
    "        visualize(image, stateless_random_contrast)\n",
    "        print(\"path to be stored in : \",path +\"/\"+\"contrasted_\"+img_name )\n",
    "        print(\"New Image inside function Augment : \",type(stateless_random_contrast.numpy()))\n",
    "\n",
    "        plt.imsave(path +\"/\"+\"contrasted_\"+img_name+\"_\"+str(i)+\".png\",stateless_random_contrast.numpy())\n",
    "        '''\n",
    "        \n",
    "        #-----------------Brightness------------------------------------------------------#\n",
    "\n",
    "        image_brightness = tf.image.stateless_random_brightness(image, max_delta=maxdelta, seed=seed)\n",
    "        plt.imsave(out_path+name+str(idx)+\"_\"+str(i)+\".png\",image_brightness.numpy())\n",
    "        '''\n",
    "        #-----------------Hue------------------------------------------------------#\n",
    "        seed=(1,i)\n",
    "        image_hue = tf.image.stateless_random_hue(image, max_delta=0.4, seed=seed)\n",
    "        plt.imsave(path +\"/\"+\"Hue_\"+img_name+\"_\"+str(i)+\".png\",image_hue.numpy())\n",
    "        \n",
    "        \n",
    "        #-----------------Saturation------------------------------------------------------#\n",
    "        seed=(1,i)\n",
    "        image_saturation = tf.image.stateless_random_saturation(image, 0.5,1.0, seed=seed)\n",
    "        plt.imsave(path +\"/\"+\"Saturation_\"+img_name+\"_\"+str(i)+\".png\",image_saturation.numpy())\n",
    "    \n",
    "        #-----------------Jpeg__quality------------------------------------------------------#\n",
    "        seed=(1,i)\n",
    "        img_jpeg=tf.cast(image,tf.uint8)\n",
    "        image_jpeg = tf.image.stateless_random_jpeg_quality(img_jpeg, 60, 95, seed=seed)\n",
    "        plt.imsave(path +\"/\"+\"Jpeg_\"+img_name+\"_\"+str(i)+\".png\",image_jpeg.numpy())\n",
    "        '''\n",
    "        if i > 1:\n",
    "            break\n",
    "        \n",
    "def generator(name,naccept_gen,target_path):\n",
    "    loaf = [raw_dir+name+\"/\"+i  for i in os.listdir(raw_dir+name+\"/\")]\n",
    "    opath = target_path+name+\"/\"\n",
    "    if not os.path.exists(opath):\n",
    "            os.makedirs(opath)\n",
    "    for c,im in enumerate(loaf):\n",
    "        augmentor(name,im,c,naccept_gen,0.2,opath)\n",
    "        if c > 5:\n",
    "            break\n",
    "            \n",
    "def generatorbin(name,naccept_gen,opath):\n",
    "    loaf = [raw_dir+name+\"/\"+i  for i in os.listdir(raw_dir+name+\"/\")]\n",
    "    #opath = target_path+name+\"/\"\n",
    "    if not os.path.exists(opath):\n",
    "            os.makedirs(opath)\n",
    "    for c,im in enumerate(loaf):\n",
    "        augmentor(name,im,c,naccept_gen,0.2,opath)\n",
    "        if c > 5:\n",
    "            break"
   ]
  },
  {
   "cell_type": "code",
   "execution_count": 3,
   "metadata": {},
   "outputs": [
    {
     "name": "stdout",
     "output_type": "stream",
     "text": [
      "Folder Names :  ['Acceptable', 'Empty', 'Flipped', 'Mispositionned', 'Turned_180', 'One_on_top_of_another']\n",
      "total acceptable raw images 258\n"
     ]
    }
   ],
   "source": [
    "import glob\n",
    "raw_dir='/grid_mnt/data__data.polcms/cms/sghosh/camdata/HGCROC_image_dataset/'\n",
    "\n",
    "folder_names= os.listdir(raw_dir)\n",
    "print(\"Folder Names : \",folder_names)\n",
    "\n",
    "rawaccept = len(os.listdir(raw_dir+'Acceptable'))\n",
    "print(\"total acceptable raw images\",rawaccept)"
   ]
  },
  {
   "cell_type": "code",
   "execution_count": 7,
   "metadata": {},
   "outputs": [
    {
     "name": "stdout",
     "output_type": "stream",
     "text": [
      "copies from each original image: 116\n",
      "other class names: ['Empty', 'Flipped', 'Mispositionned', 'Turned_180', 'One_on_top_of_another']\n",
      "samples to generate per category: 30000\n",
      "generating for category: Empty  with noriginal files: 264\n",
      "generating for category: Flipped  with noriginal files: 264\n",
      "generating for category: Mispositionned  with noriginal files: 262\n",
      "generating for category: Turned_180  with noriginal files: 262\n",
      "generating for category: One_on_top_of_another  with noriginal files: 132\n"
     ]
    }
   ],
   "source": [
    "### for n class classification #####\n",
    "total_accept = 30000\n",
    "\n",
    "\n",
    "##### generate acceptable files #######\n",
    "naccept_gen = 30000//rawaccept\n",
    "print(\"copies from each original image:\",naccept_gen)\n",
    "target_path='/grid_mnt/data__data.polcms/cms/sghosh/camdata/Augmented_dataset_1/'\n",
    "if not os.path.exists(target_path):\n",
    "        os.makedirs(target_path)\n",
    "\n",
    "catname = \"Acceptable\"\n",
    "generator(catname,naccept_gen,target_path)\n",
    "\n",
    "\n",
    "\n",
    "##### generate other class files #######\n",
    "nonacpt = [i  for i in folder_names if \"Acceptable\" not in  i]\n",
    "print(\"other class names:\",nonacpt)\n",
    "spercateg = total_accept#//len(nonacpt)\n",
    "print(\"samples to generate per category:\",spercateg)\n",
    "\n",
    "\n",
    "for cat in nonacpt:\n",
    "    nraw = len(os.listdir(raw_dir+cat))\n",
    "    print(\"generating for category:\",cat,\" with noriginal files:\",nraw)\n",
    "    ncat_gen = spercateg//nraw\n",
    "    generator(cat,ncat_gen,target_path)"
   ]
  },
  {
   "cell_type": "code",
   "execution_count": 8,
   "metadata": {},
   "outputs": [
    {
     "name": "stdout",
     "output_type": "stream",
     "text": [
      "copies from each original image: 116\n",
      "other class names: ['Empty', 'Flipped', 'Mispositionned', 'Turned_180', 'One_on_top_of_another']\n",
      "samples to generate per category: 6000\n",
      "generating for category: Empty  with noriginal files: 264\n",
      "generating for category: Flipped  with noriginal files: 264\n",
      "generating for category: Mispositionned  with noriginal files: 262\n",
      "generating for category: Turned_180  with noriginal files: 262\n",
      "generating for category: One_on_top_of_another  with noriginal files: 132\n"
     ]
    }
   ],
   "source": [
    "### for binary classification #####\n",
    "total_accept = 30000\n",
    "\n",
    "##### generate acceptable files #######\n",
    "naccept_gen = 30000//rawaccept\n",
    "print(\"copies from each original image:\",naccept_gen)\n",
    "target_path='/grid_mnt/data__data.polcms/cms/sghosh/camdata/Augmented_dataset_bin/'\n",
    "if not os.path.exists(target_path):\n",
    "        os.makedirs(target_path)\n",
    "\n",
    "catname = \"Acceptable\"\n",
    "generator(catname,naccept_gen,target_path)\n",
    "\n",
    "\n",
    "##### generate other class files #######\n",
    "nonacpt = [i  for i in folder_names if \"Acceptable\" not in  i]\n",
    "print(\"other class names:\",nonacpt)\n",
    "spercateg = total_accept//len(nonacpt)\n",
    "print(\"samples to generate per category:\",spercateg)\n",
    "\n",
    "opath = target_path+\"Nonacceptable/\"\n",
    "for cat in nonacpt:\n",
    "    nraw = len(os.listdir(raw_dir+cat))\n",
    "    print(\"generating for category:\",cat,\" with noriginal files:\",nraw)\n",
    "    ncat_gen = spercateg//nraw\n",
    "    generatorbin(cat,ncat_gen,opath)"
   ]
  },
  {
   "cell_type": "code",
   "execution_count": null,
   "metadata": {
    "scrolled": false
   },
   "outputs": [],
   "source": [
    "# Read the original image\n",
    "%matplotlib inline\n",
    "cname = \n",
    "test_dir = opath = target_path+cname+\"/\"\n",
    "\n",
    "lof = os.listdir(test_dir)\n",
    "for i in range(len(lof)):\n",
    "    print(test_dir+lof[i])\n",
    "    plt.figure(figsize = (10,10))\n",
    "    \n",
    "    img = cv2.imread(test_dir+lof[i], cv2.IMREAD_UNCHANGED)\n",
    "    plt.imshow(img)\n",
    "    if i > 10:\n",
    "        break"
   ]
  },
  {
   "cell_type": "code",
   "execution_count": null,
   "metadata": {},
   "outputs": [],
   "source": []
  }
 ],
 "metadata": {
  "kernelspec": {
   "display_name": "tfgpu",
   "language": "python",
   "name": "tfgpu"
  },
  "language_info": {
   "codemirror_mode": {
    "name": "ipython",
    "version": 3
   },
   "file_extension": ".py",
   "mimetype": "text/x-python",
   "name": "python",
   "nbconvert_exporter": "python",
   "pygments_lexer": "ipython3",
   "version": "3.8.11"
  }
 },
 "nbformat": 4,
 "nbformat_minor": 2
}
